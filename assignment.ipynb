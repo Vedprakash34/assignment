{
 "cells": [
  {
   "cell_type": "code",
   "execution_count": 1,
   "id": "d208db02-56f3-4370-b6b5-4f01060e9319",
   "metadata": {},
   "outputs": [
    {
     "ename": "SyntaxError",
     "evalue": "invalid syntax (4245091053.py, line 1)",
     "output_type": "error",
     "traceback": [
      "\u001b[0;36m  Cell \u001b[0;32mIn[1], line 1\u001b[0;36m\u001b[0m\n\u001b[0;31m    qno. 1=Guido van Rossum\u001b[0m\n\u001b[0m         ^\u001b[0m\n\u001b[0;31mSyntaxError\u001b[0m\u001b[0;31m:\u001b[0m invalid syntax\n"
     ]
    }
   ],
   "source": [
    "#qno. 1=Guido van Rossum"
   ]
  },
  {
   "cell_type": "code",
   "execution_count": 2,
   "id": "34e79552-9ae5-4689-a091-befc163123bf",
   "metadata": {},
   "outputs": [],
   "source": [
    "#qno.2=OOPs and structured"
   ]
  },
  {
   "cell_type": "code",
   "execution_count": 5,
   "id": "8077c4cd-ca09-44fc-805c-e526e3ff042b",
   "metadata": {},
   "outputs": [],
   "source": [
    "#qno.3=yes\n"
   ]
  },
  {
   "cell_type": "code",
   "execution_count": 6,
   "id": "97fce5dd-f772-4440-b8db-fe997a25dd2e",
   "metadata": {},
   "outputs": [],
   "source": [
    "#qno.4=.py"
   ]
  },
  {
   "cell_type": "code",
   "execution_count": 7,
   "id": "7ed3a5de-68bc-4e2f-a292-b4b2fc7cc05e",
   "metadata": {},
   "outputs": [],
   "source": [
    "#qno.5= code interpreted"
   ]
  },
  {
   "cell_type": "code",
   "execution_count": 9,
   "id": "d15a5725-cb81-41ad-a9f3-540762a3aa6d",
   "metadata": {},
   "outputs": [
    {
     "name": "stdout",
     "output_type": "stream",
     "text": [
      "17\n"
     ]
    }
   ],
   "source": [
    "#qno.6\n",
    "i=8\n",
    "j=9\n",
    "print(i+j)"
   ]
  },
  {
   "cell_type": "code",
   "execution_count": 10,
   "id": "915f823e-4a59-4ce3-b78d-33003700a1a1",
   "metadata": {},
   "outputs": [],
   "source": [
    "#qno.7 = #"
   ]
  },
  {
   "cell_type": "code",
   "execution_count": 11,
   "id": "b8e9daca-af6f-4588-b7a5-8a9c575f9c2e",
   "metadata": {},
   "outputs": [],
   "source": [
    "#qno.8= version()"
   ]
  },
  {
   "cell_type": "code",
   "execution_count": 12,
   "id": "655f8026-35b3-4299-b2e9-7e7c35f159aa",
   "metadata": {},
   "outputs": [],
   "source": [
    "#qno.9= lambda"
   ]
  },
  {
   "cell_type": "code",
   "execution_count": 13,
   "id": "a0a2b4c3-d8d2-4408-8ecf-795db7064f55",
   "metadata": {},
   "outputs": [],
   "source": [
    "#qno.10=preferred installer program"
   ]
  },
  {
   "cell_type": "code",
   "execution_count": 14,
   "id": "bd27ddc8-89fc-4990-8df8-04edf3f381eb",
   "metadata": {},
   "outputs": [],
   "source": [
    "#qno.11=sort(),append(),extend(),pop()...etc"
   ]
  },
  {
   "cell_type": "code",
   "execution_count": 15,
   "id": "bb985cfa-2aff-4ec3-b954-51dbccbcb18a",
   "metadata": {},
   "outputs": [],
   "source": [
    "#qno.12= 79 character"
   ]
  },
  {
   "cell_type": "code",
   "execution_count": 16,
   "id": "8cc15fc4-8063-4357-a1d8-a3e258f9ab2f",
   "metadata": {},
   "outputs": [
    {
     "ename": "SyntaxError",
     "evalue": "invalid syntax (825911630.py, line 2)",
     "output_type": "error",
     "traceback": [
      "\u001b[0;36m  Cell \u001b[0;32mIn[16], line 2\u001b[0;36m\u001b[0m\n\u001b[0;31m    Scientific and mathematical computing.\u001b[0m\n\u001b[0m                                ^\u001b[0m\n\u001b[0;31mSyntaxError\u001b[0m\u001b[0;31m:\u001b[0m invalid syntax\n"
     ]
    }
   ],
   "source": [
    "qno.13=Finance and trading.\n",
    "Scientific and mathematical computing.\n",
    "Web development.\n",
    "System automation and administration.\n",
    "Computer graphics.\n",
    "Basic game development***"
   ]
  },
  {
   "cell_type": "code",
   "execution_count": null,
   "id": "4f4f97d7-7f5b-43cd-8ef4-a81e51eae062",
   "metadata": {},
   "outputs": [],
   "source": [
    "#qno14="
   ]
  }
 ],
 "metadata": {
  "kernelspec": {
   "display_name": "Python 3 (ipykernel)",
   "language": "python",
   "name": "python3"
  },
  "language_info": {
   "codemirror_mode": {
    "name": "ipython",
    "version": 3
   },
   "file_extension": ".py",
   "mimetype": "text/x-python",
   "name": "python",
   "nbconvert_exporter": "python",
   "pygments_lexer": "ipython3",
   "version": "3.10.8"
  }
 },
 "nbformat": 4,
 "nbformat_minor": 5
}
